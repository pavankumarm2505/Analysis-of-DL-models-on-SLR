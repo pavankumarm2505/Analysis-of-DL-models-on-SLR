{
  "cells": [
    {
      "cell_type": "code",
      "execution_count": null,
      "metadata": {
        "id": "LeXrQoOiLj92"
      },
      "outputs": [],
      "source": [
        "import os\n",
        "import cv2\n",
        "import numpy as np\n",
        "import tensorflow as tf \n",
        "import pandas as pd\n",
        "import seaborn as sns\n",
        "import matplotlib.pyplot as plt\n",
        "from sklearn.model_selection import train_test_split\n",
        "from sklearn.metrics import accuracy_score, confusion_matrix, classification_report\n",
        "\n",
        "from keras.models import Sequential\n",
        "from keras.layers import Conv2D, MaxPool2D, BatchNormalization, Dropout, Flatten, Dense"
      ]
    },
    {
      "cell_type": "code",
      "execution_count": null,
      "metadata": {
        "id": "qLyNj-EPZSrr"
      },
      "outputs": [],
      "source": [
        "data_dir = '/content/drive/MyDrive/DLProject/asl/'\n",
        "# data_dir = '/content/drive/MyDrive/DLProject/arabic/'\n",
        "# data_dir = '/content/drive/MyDrive/DLProject/indian/'"
      ]
    },
    {
      "cell_type": "code",
      "execution_count": null,
      "metadata": {
        "id": "et5TycLTZ-uv"
      },
      "outputs": [],
      "source": [
        "x = np.load(data_dir + 'train_imgs.npy')\n",
        "y = np.load(data_dir + 'train_labels.npy')\n",
        "# x = x.astype('float32') / 255.0\n",
        "y = tf.keras.utils.to_categorical(y)"
      ]
    },
    {
      "cell_type": "code",
      "execution_count": null,
      "metadata": {
        "colab": {
          "base_uri": "https://localhost:8080/"
        },
        "id": "RtOoyQywaE40",
        "outputId": "b73853d5-520f-4860-b301-09f417b62cdd"
      },
      "outputs": [
        {
          "name": "stdout",
          "output_type": "stream",
          "text": [
            "(52200, 32, 32, 3) (52200, 29)\n",
            "(17400, 32, 32, 3) (17400, 29)\n"
          ]
        }
      ],
      "source": [
        "x_train, x_test, y_train, y_test = train_test_split(x, y, test_size=0.2, random_state=1, shuffle=True)\n",
        "x_train, x_val, y_train, y_val = train_test_split(x_train, y_train, test_size=0.25, random_state=1, shuffle=True)\n",
        "print(x_train.shape, y_train.shape)\n",
        "print(x_val.shape, y_val.shape)"
      ]
    },
    {
      "cell_type": "code",
      "execution_count": null,
      "metadata": {
        "id": "tbjWGBII_fjH"
      },
      "outputs": [],
      "source": [
        "classes = 29\n",
        "batch_size = 512\n",
        "epochs = 50\n",
        "learning_rate = 1e-4"
      ]
    },
    {
      "cell_type": "code",
      "execution_count": null,
      "metadata": {
        "id": "lL921uU7B-Cc"
      },
      "outputs": [],
      "source": [
        "# Set the CNN model \n",
        "model = Sequential()\n",
        "model.add(Conv2D(filters = 64, kernel_size = (5,5),padding = 'same', \n",
        "                 activation ='relu', input_shape = (32,32,3)))\n",
        "model.add(Conv2D(filters = 64, kernel_size = (5,5),padding = 'same', \n",
        "                 activation ='relu'))\n",
        "model.add(MaxPool2D(pool_size=(2,2)))\n",
        "model.add(BatchNormalization())\n",
        "model.add(Dropout(0.25))\n",
        "model.add(Conv2D(filters = 128, kernel_size = (3,3),padding = 'same', \n",
        "                 activation ='relu'))\n",
        "model.add(Conv2D(filters = 128, kernel_size = (3,3),padding = 'same', \n",
        "                 activation ='relu'))\n",
        "model.add(MaxPool2D(pool_size=(2,2), strides=(2,2)))\n",
        "model.add(BatchNormalization())\n",
        "model.add(Dropout(0.25))\n",
        "model.add(Conv2D(filters = 256, kernel_size = (3,3),padding = 'same', \n",
        "                 activation ='relu'))\n",
        "model.add(Conv2D(filters = 256, kernel_size = (3,3),padding = 'same', \n",
        "                 activation ='relu'))\n",
        "model.add(BatchNormalization())\n",
        "model.add(MaxPool2D((2,2) , strides = 2 , padding = 'same'))\n",
        "model.add(Dropout(0.25))\n",
        "model.add(Flatten())\n",
        "model.add(Dense(512, activation = \"relu\"))\n",
        "model.add(Dropout(0.3))\n",
        "# model.add(Dropout(0.35))\n",
        "model.add(Dense(classes, activation = \"softmax\"))"
      ]
    },
    {
      "cell_type": "code",
      "source": [
        "model.summary()"
      ],
      "metadata": {
        "colab": {
          "base_uri": "https://localhost:8080/"
        },
        "id": "LRbNdGumipD7",
        "outputId": "163d51c5-51a8-4262-c3af-283917a890f8"
      },
      "execution_count": null,
      "outputs": [
        {
          "output_type": "stream",
          "name": "stdout",
          "text": [
            "Model: \"sequential\"\n",
            "_________________________________________________________________\n",
            " Layer (type)                Output Shape              Param #   \n",
            "=================================================================\n",
            " conv2d (Conv2D)             (None, 32, 32, 64)        4864      \n",
            "                                                                 \n",
            " conv2d_1 (Conv2D)           (None, 32, 32, 64)        102464    \n",
            "                                                                 \n",
            " max_pooling2d (MaxPooling2D  (None, 16, 16, 64)       0         \n",
            " )                                                               \n",
            "                                                                 \n",
            " batch_normalization (BatchN  (None, 16, 16, 64)       256       \n",
            " ormalization)                                                   \n",
            "                                                                 \n",
            " dropout (Dropout)           (None, 16, 16, 64)        0         \n",
            "                                                                 \n",
            " conv2d_2 (Conv2D)           (None, 16, 16, 128)       73856     \n",
            "                                                                 \n",
            " conv2d_3 (Conv2D)           (None, 16, 16, 128)       147584    \n",
            "                                                                 \n",
            " max_pooling2d_1 (MaxPooling  (None, 8, 8, 128)        0         \n",
            " 2D)                                                             \n",
            "                                                                 \n",
            " batch_normalization_1 (Batc  (None, 8, 8, 128)        512       \n",
            " hNormalization)                                                 \n",
            "                                                                 \n",
            " dropout_1 (Dropout)         (None, 8, 8, 128)         0         \n",
            "                                                                 \n",
            " conv2d_4 (Conv2D)           (None, 8, 8, 256)         295168    \n",
            "                                                                 \n",
            " conv2d_5 (Conv2D)           (None, 8, 8, 256)         590080    \n",
            "                                                                 \n",
            " batch_normalization_2 (Batc  (None, 8, 8, 256)        1024      \n",
            " hNormalization)                                                 \n",
            "                                                                 \n",
            " max_pooling2d_2 (MaxPooling  (None, 4, 4, 256)        0         \n",
            " 2D)                                                             \n",
            "                                                                 \n",
            " dropout_2 (Dropout)         (None, 4, 4, 256)         0         \n",
            "                                                                 \n",
            " flatten (Flatten)           (None, 4096)              0         \n",
            "                                                                 \n",
            " dense (Dense)               (None, 512)               2097664   \n",
            "                                                                 \n",
            " dropout_3 (Dropout)         (None, 512)               0         \n",
            "                                                                 \n",
            " dense_1 (Dense)             (None, 29)                14877     \n",
            "                                                                 \n",
            "=================================================================\n",
            "Total params: 3,328,349\n",
            "Trainable params: 3,327,453\n",
            "Non-trainable params: 896\n",
            "_________________________________________________________________\n"
          ]
        }
      ]
    },
    {
      "cell_type": "code",
      "execution_count": null,
      "metadata": {
        "id": "uT5HJL1YlSb8"
      },
      "outputs": [],
      "source": [
        "# Data augmentation\n",
        "datagen = tf.keras.preprocessing.image.ImageDataGenerator(\n",
        "        rotation_range=10,  # randomly rotate images in the range (degrees, 0 to 180)\n",
        "        zoom_range = 0.1, # Randomly zoom image \n",
        "        width_shift_range=0.1,  # randomly shift images horizontally (fraction of total width)\n",
        "        height_shift_range=0.1) # randomly shift images vertically (fraction of total height)\n",
        "\n",
        "datagen.fit(x_train)"
      ]
    },
    {
      "cell_type": "code",
      "execution_count": null,
      "metadata": {
        "id": "sSRyc-LzqJW4"
      },
      "outputs": [],
      "source": [
        "# Define optimizer and use learning rate reduction\n",
        "model.compile(optimizer=tf.optimizers.Adam(learning_rate=learning_rate), loss='categorical_crossentropy', metrics=['accuracy'])\n",
        "learning_rate_reduction = tf.keras.callbacks.ReduceLROnPlateau(monitor='val_accuracy', \n",
        "                                            patience=3, \n",
        "                                            verbose=1, \n",
        "                                            factor=0.5, \n",
        "                                            min_lr=0.00001)"
      ]
    },
    {
      "cell_type": "code",
      "execution_count": null,
      "metadata": {
        "id": "nXx3Pv45qPpV"
      },
      "outputs": [],
      "source": [
        "model_checkpoint_callback = tf.keras.callbacks.ModelCheckpoint(\n",
        "    filepath=\"best.h5\",\n",
        "    monitor='val_accuracy', \n",
        "    verbose=1, \n",
        "    save_best_only=True, \n",
        "    mode='max')\n",
        "\n",
        "early_stopping = tf.keras.callbacks.EarlyStopping(monitor=\"val_loss\", mode=\"min\", verbose=1, patience=20)"
      ]
    },
    {
      "cell_type": "code",
      "execution_count": null,
      "metadata": {
        "colab": {
          "background_save": true,
          "base_uri": "https://localhost:8080/"
        },
        "id": "JKPvbPHiqTif",
        "outputId": "3d0f957c-ad70-4986-fcb1-bc0b5e362584"
      },
      "outputs": [
        {
          "name": "stdout",
          "output_type": "stream",
          "text": [
            "Epoch 1/50\n",
            "\n",
            "Epoch 1: val_accuracy improved from -inf to 0.03529, saving model to best.h5\n",
            "102/102 - 60s - loss: 3.2459 - accuracy: 0.1218 - val_loss: 3.9150 - val_accuracy: 0.0353 - lr: 1.0000e-04 - 60s/epoch - 584ms/step\n",
            "Epoch 2/50\n",
            "\n",
            "Epoch 2: val_accuracy improved from 0.03529 to 0.03603, saving model to best.h5\n",
            "102/102 - 33s - loss: 2.3696 - accuracy: 0.2884 - val_loss: 5.8894 - val_accuracy: 0.0360 - lr: 1.0000e-04 - 33s/epoch - 325ms/step\n",
            "Epoch 3/50\n",
            "\n",
            "Epoch 3: val_accuracy improved from 0.03603 to 0.04339, saving model to best.h5\n",
            "102/102 - 34s - loss: 1.7329 - accuracy: 0.4559 - val_loss: 6.8792 - val_accuracy: 0.0434 - lr: 1.0000e-04 - 34s/epoch - 333ms/step\n",
            "Epoch 4/50\n",
            "\n",
            "Epoch 4: val_accuracy improved from 0.04339 to 0.04448, saving model to best.h5\n",
            "102/102 - 33s - loss: 1.2626 - accuracy: 0.5898 - val_loss: 8.6402 - val_accuracy: 0.0445 - lr: 1.0000e-04 - 33s/epoch - 323ms/step\n",
            "Epoch 5/50\n",
            "\n",
            "Epoch 5: val_accuracy improved from 0.04448 to 0.14500, saving model to best.h5\n",
            "102/102 - 32s - loss: 0.9368 - accuracy: 0.6922 - val_loss: 5.8580 - val_accuracy: 0.1450 - lr: 1.0000e-04 - 32s/epoch - 318ms/step\n",
            "Epoch 6/50\n",
            "\n",
            "Epoch 6: val_accuracy improved from 0.14500 to 0.36678, saving model to best.h5\n",
            "102/102 - 33s - loss: 0.7110 - accuracy: 0.7637 - val_loss: 2.9730 - val_accuracy: 0.3668 - lr: 1.0000e-04 - 33s/epoch - 323ms/step\n",
            "Epoch 7/50\n",
            "\n",
            "Epoch 7: val_accuracy improved from 0.36678 to 0.65489, saving model to best.h5\n",
            "102/102 - 33s - loss: 0.5534 - accuracy: 0.8129 - val_loss: 1.2228 - val_accuracy: 0.6549 - lr: 1.0000e-04 - 33s/epoch - 320ms/step\n",
            "Epoch 8/50\n",
            "\n",
            "Epoch 8: val_accuracy improved from 0.65489 to 0.81167, saving model to best.h5\n",
            "102/102 - 32s - loss: 0.4316 - accuracy: 0.8521 - val_loss: 0.5836 - val_accuracy: 0.8117 - lr: 1.0000e-04 - 32s/epoch - 318ms/step\n",
            "Epoch 9/50\n",
            "\n",
            "Epoch 9: val_accuracy improved from 0.81167 to 0.86868, saving model to best.h5\n",
            "102/102 - 31s - loss: 0.3445 - accuracy: 0.8832 - val_loss: 0.4055 - val_accuracy: 0.8687 - lr: 1.0000e-04 - 31s/epoch - 308ms/step\n",
            "Epoch 10/50\n",
            "\n",
            "Epoch 10: val_accuracy did not improve from 0.86868\n",
            "102/102 - 32s - loss: 0.2847 - accuracy: 0.9026 - val_loss: 0.5811 - val_accuracy: 0.8337 - lr: 1.0000e-04 - 32s/epoch - 316ms/step\n",
            "Epoch 11/50\n",
            "\n",
            "Epoch 11: val_accuracy improved from 0.86868 to 0.90374, saving model to best.h5\n",
            "102/102 - 32s - loss: 0.2335 - accuracy: 0.9202 - val_loss: 0.3023 - val_accuracy: 0.9037 - lr: 1.0000e-04 - 32s/epoch - 315ms/step\n",
            "Epoch 12/50\n",
            "\n",
            "Epoch 12: val_accuracy improved from 0.90374 to 0.94885, saving model to best.h5\n",
            "102/102 - 32s - loss: 0.1945 - accuracy: 0.9349 - val_loss: 0.1418 - val_accuracy: 0.9489 - lr: 1.0000e-04 - 32s/epoch - 312ms/step\n",
            "Epoch 13/50\n",
            "\n",
            "Epoch 13: val_accuracy improved from 0.94885 to 0.97764, saving model to best.h5\n",
            "102/102 - 31s - loss: 0.1603 - accuracy: 0.9449 - val_loss: 0.0595 - val_accuracy: 0.9776 - lr: 1.0000e-04 - 31s/epoch - 308ms/step\n",
            "Epoch 14/50\n",
            "\n",
            "Epoch 14: val_accuracy did not improve from 0.97764\n",
            "102/102 - 32s - loss: 0.1434 - accuracy: 0.9514 - val_loss: 0.1397 - val_accuracy: 0.9518 - lr: 1.0000e-04 - 32s/epoch - 315ms/step\n",
            "Epoch 15/50\n",
            "\n",
            "Epoch 15: val_accuracy did not improve from 0.97764\n",
            "102/102 - 33s - loss: 0.1236 - accuracy: 0.9582 - val_loss: 0.3098 - val_accuracy: 0.9199 - lr: 1.0000e-04 - 33s/epoch - 321ms/step\n",
            "Epoch 16/50\n",
            "\n",
            "Epoch 16: val_accuracy improved from 0.97764 to 0.98891, saving model to best.h5\n",
            "102/102 - 33s - loss: 0.1026 - accuracy: 0.9663 - val_loss: 0.0336 - val_accuracy: 0.9889 - lr: 1.0000e-04 - 33s/epoch - 321ms/step\n",
            "Epoch 17/50\n",
            "\n",
            "Epoch 17: val_accuracy did not improve from 0.98891\n",
            "102/102 - 33s - loss: 0.0959 - accuracy: 0.9680 - val_loss: 0.2616 - val_accuracy: 0.9196 - lr: 1.0000e-04 - 33s/epoch - 320ms/step\n",
            "Epoch 18/50\n",
            "\n",
            "Epoch 18: val_accuracy did not improve from 0.98891\n",
            "102/102 - 32s - loss: 0.0873 - accuracy: 0.9704 - val_loss: 0.2340 - val_accuracy: 0.9387 - lr: 1.0000e-04 - 32s/epoch - 311ms/step\n",
            "Epoch 19/50\n",
            "\n",
            "Epoch 19: val_accuracy improved from 0.98891 to 0.98954, saving model to best.h5\n",
            "102/102 - 33s - loss: 0.0757 - accuracy: 0.9750 - val_loss: 0.0340 - val_accuracy: 0.9895 - lr: 1.0000e-04 - 33s/epoch - 325ms/step\n",
            "Epoch 20/50\n",
            "\n",
            "Epoch 20: val_accuracy did not improve from 0.98954\n",
            "102/102 - 34s - loss: 0.0747 - accuracy: 0.9745 - val_loss: 0.0468 - val_accuracy: 0.9832 - lr: 1.0000e-04 - 34s/epoch - 332ms/step\n",
            "Epoch 21/50\n",
            "\n",
            "Epoch 21: val_accuracy did not improve from 0.98954\n",
            "102/102 - 33s - loss: 0.0648 - accuracy: 0.9782 - val_loss: 0.0813 - val_accuracy: 0.9684 - lr: 1.0000e-04 - 33s/epoch - 322ms/step\n",
            "Epoch 22/50\n",
            "\n",
            "Epoch 22: val_accuracy did not improve from 0.98954\n",
            "\n",
            "Epoch 22: ReduceLROnPlateau reducing learning rate to 4.999999873689376e-05.\n",
            "102/102 - 33s - loss: 0.0586 - accuracy: 0.9806 - val_loss: 0.4014 - val_accuracy: 0.9131 - lr: 1.0000e-04 - 33s/epoch - 324ms/step\n",
            "Epoch 23/50\n",
            "\n",
            "Epoch 23: val_accuracy did not improve from 0.98954\n",
            "102/102 - 33s - loss: 0.0478 - accuracy: 0.9843 - val_loss: 0.0531 - val_accuracy: 0.9839 - lr: 5.0000e-05 - 33s/epoch - 325ms/step\n",
            "Epoch 24/50\n",
            "\n",
            "Epoch 24: val_accuracy did not improve from 0.98954\n",
            "102/102 - 32s - loss: 0.0452 - accuracy: 0.9854 - val_loss: 0.0385 - val_accuracy: 0.9874 - lr: 5.0000e-05 - 32s/epoch - 317ms/step\n",
            "Epoch 25/50\n",
            "\n",
            "Epoch 25: val_accuracy did not improve from 0.98954\n",
            "\n",
            "Epoch 25: ReduceLROnPlateau reducing learning rate to 2.499999936844688e-05.\n",
            "102/102 - 32s - loss: 0.0430 - accuracy: 0.9860 - val_loss: 0.1378 - val_accuracy: 0.9582 - lr: 5.0000e-05 - 32s/epoch - 316ms/step\n",
            "Epoch 26/50\n",
            "\n",
            "Epoch 26: val_accuracy improved from 0.98954 to 0.99540, saving model to best.h5\n",
            "102/102 - 32s - loss: 0.0378 - accuracy: 0.9877 - val_loss: 0.0122 - val_accuracy: 0.9954 - lr: 2.5000e-05 - 32s/epoch - 316ms/step\n",
            "Epoch 27/50\n",
            "\n",
            "Epoch 27: val_accuracy improved from 0.99540 to 0.99718, saving model to best.h5\n",
            "102/102 - 36s - loss: 0.0358 - accuracy: 0.9886 - val_loss: 0.0087 - val_accuracy: 0.9972 - lr: 2.5000e-05 - 36s/epoch - 348ms/step\n",
            "Epoch 28/50\n",
            "\n",
            "Epoch 28: val_accuracy did not improve from 0.99718\n",
            "102/102 - 32s - loss: 0.0328 - accuracy: 0.9892 - val_loss: 0.0261 - val_accuracy: 0.9912 - lr: 2.5000e-05 - 32s/epoch - 317ms/step\n",
            "Epoch 29/50\n",
            "\n",
            "Epoch 29: val_accuracy did not improve from 0.99718\n",
            "102/102 - 36s - loss: 0.0342 - accuracy: 0.9889 - val_loss: 0.0189 - val_accuracy: 0.9932 - lr: 2.5000e-05 - 36s/epoch - 348ms/step\n",
            "Epoch 30/50\n",
            "\n",
            "Epoch 30: val_accuracy improved from 0.99718 to 0.99793, saving model to best.h5\n",
            "102/102 - 33s - loss: 0.0340 - accuracy: 0.9886 - val_loss: 0.0064 - val_accuracy: 0.9979 - lr: 2.5000e-05 - 33s/epoch - 324ms/step\n",
            "Epoch 31/50\n",
            "\n",
            "Epoch 31: val_accuracy did not improve from 0.99793\n",
            "102/102 - 36s - loss: 0.0312 - accuracy: 0.9902 - val_loss: 0.0171 - val_accuracy: 0.9944 - lr: 2.5000e-05 - 36s/epoch - 349ms/step\n",
            "Epoch 32/50\n",
            "\n",
            "Epoch 32: val_accuracy did not improve from 0.99793\n",
            "102/102 - 32s - loss: 0.0314 - accuracy: 0.9899 - val_loss: 0.0080 - val_accuracy: 0.9976 - lr: 2.5000e-05 - 32s/epoch - 318ms/step\n",
            "Epoch 33/50\n",
            "\n",
            "Epoch 33: val_accuracy did not improve from 0.99793\n",
            "\n",
            "Epoch 33: ReduceLROnPlateau reducing learning rate to 1.249999968422344e-05.\n",
            "102/102 - 33s - loss: 0.0310 - accuracy: 0.9898 - val_loss: 0.0104 - val_accuracy: 0.9964 - lr: 2.5000e-05 - 33s/epoch - 325ms/step\n",
            "Epoch 34/50\n",
            "\n",
            "Epoch 34: val_accuracy did not improve from 0.99793\n",
            "102/102 - 32s - loss: 0.0278 - accuracy: 0.9912 - val_loss: 0.0158 - val_accuracy: 0.9940 - lr: 1.2500e-05 - 32s/epoch - 318ms/step\n",
            "Epoch 35/50\n",
            "\n",
            "Epoch 35: val_accuracy did not improve from 0.99793\n",
            "102/102 - 32s - loss: 0.0270 - accuracy: 0.9912 - val_loss: 0.0128 - val_accuracy: 0.9952 - lr: 1.2500e-05 - 32s/epoch - 315ms/step\n",
            "Epoch 36/50\n",
            "\n",
            "Epoch 36: val_accuracy did not improve from 0.99793\n",
            "\n",
            "Epoch 36: ReduceLROnPlateau reducing learning rate to 1e-05.\n",
            "102/102 - 32s - loss: 0.0248 - accuracy: 0.9922 - val_loss: 0.0099 - val_accuracy: 0.9964 - lr: 1.2500e-05 - 32s/epoch - 315ms/step\n",
            "Epoch 37/50\n",
            "\n",
            "Epoch 37: val_accuracy did not improve from 0.99793\n",
            "102/102 - 32s - loss: 0.0252 - accuracy: 0.9921 - val_loss: 0.0128 - val_accuracy: 0.9956 - lr: 1.0000e-05 - 32s/epoch - 314ms/step\n",
            "Epoch 38/50\n",
            "\n",
            "Epoch 38: val_accuracy did not improve from 0.99793\n",
            "102/102 - 33s - loss: 0.0255 - accuracy: 0.9918 - val_loss: 0.0069 - val_accuracy: 0.9977 - lr: 1.0000e-05 - 33s/epoch - 319ms/step\n",
            "Epoch 39/50\n",
            "\n",
            "Epoch 39: val_accuracy did not improve from 0.99793\n",
            "102/102 - 32s - loss: 0.0265 - accuracy: 0.9913 - val_loss: 0.0093 - val_accuracy: 0.9971 - lr: 1.0000e-05 - 32s/epoch - 317ms/step\n",
            "Epoch 40/50\n",
            "\n",
            "Epoch 40: val_accuracy did not improve from 0.99793\n",
            "102/102 - 33s - loss: 0.0259 - accuracy: 0.9916 - val_loss: 0.0115 - val_accuracy: 0.9956 - lr: 1.0000e-05 - 33s/epoch - 324ms/step\n",
            "Epoch 41/50\n",
            "\n",
            "Epoch 41: val_accuracy did not improve from 0.99793\n",
            "102/102 - 33s - loss: 0.0255 - accuracy: 0.9917 - val_loss: 0.0132 - val_accuracy: 0.9955 - lr: 1.0000e-05 - 33s/epoch - 319ms/step\n",
            "Epoch 42/50\n",
            "\n",
            "Epoch 42: val_accuracy did not improve from 0.99793\n",
            "102/102 - 32s - loss: 0.0241 - accuracy: 0.9923 - val_loss: 0.0194 - val_accuracy: 0.9931 - lr: 1.0000e-05 - 32s/epoch - 310ms/step\n",
            "Epoch 43/50\n",
            "\n",
            "Epoch 43: val_accuracy improved from 0.99793 to 0.99810, saving model to best.h5\n",
            "102/102 - 33s - loss: 0.0250 - accuracy: 0.9919 - val_loss: 0.0067 - val_accuracy: 0.9981 - lr: 1.0000e-05 - 33s/epoch - 326ms/step\n",
            "Epoch 44/50\n",
            "\n",
            "Epoch 44: val_accuracy did not improve from 0.99810\n",
            "102/102 - 31s - loss: 0.0253 - accuracy: 0.9916 - val_loss: 0.0275 - val_accuracy: 0.9906 - lr: 1.0000e-05 - 31s/epoch - 308ms/step\n",
            "Epoch 45/50\n",
            "\n",
            "Epoch 45: val_accuracy did not improve from 0.99810\n",
            "102/102 - 33s - loss: 0.0236 - accuracy: 0.9928 - val_loss: 0.0124 - val_accuracy: 0.9966 - lr: 1.0000e-05 - 33s/epoch - 324ms/step\n",
            "Epoch 46/50\n",
            "\n",
            "Epoch 46: val_accuracy did not improve from 0.99810\n",
            "102/102 - 32s - loss: 0.0232 - accuracy: 0.9923 - val_loss: 0.0071 - val_accuracy: 0.9978 - lr: 1.0000e-05 - 32s/epoch - 310ms/step\n",
            "Epoch 47/50\n",
            "\n",
            "Epoch 47: val_accuracy improved from 0.99810 to 0.99833, saving model to best.h5\n",
            "102/102 - 33s - loss: 0.0244 - accuracy: 0.9919 - val_loss: 0.0057 - val_accuracy: 0.9983 - lr: 1.0000e-05 - 33s/epoch - 320ms/step\n",
            "Epoch 48/50\n",
            "\n",
            "Epoch 48: val_accuracy did not improve from 0.99833\n",
            "102/102 - 32s - loss: 0.0244 - accuracy: 0.9920 - val_loss: 0.0210 - val_accuracy: 0.9930 - lr: 1.0000e-05 - 32s/epoch - 311ms/step\n",
            "Epoch 49/50\n",
            "\n",
            "Epoch 49: val_accuracy did not improve from 0.99833\n",
            "102/102 - 33s - loss: 0.0230 - accuracy: 0.9924 - val_loss: 0.0118 - val_accuracy: 0.9960 - lr: 1.0000e-05 - 33s/epoch - 319ms/step\n",
            "Epoch 50/50\n",
            "\n",
            "Epoch 50: val_accuracy did not improve from 0.99833\n",
            "102/102 - 31s - loss: 0.0222 - accuracy: 0.9928 - val_loss: 0.0064 - val_accuracy: 0.9980 - lr: 1.0000e-05 - 31s/epoch - 307ms/step\n"
          ]
        }
      ],
      "source": [
        "history = model.fit(datagen.flow(x_train, y_train, batch_size=batch_size),\n",
        "                              epochs=epochs, validation_data=(x_val, y_val), \n",
        "                              verbose=2, callbacks=[model_checkpoint_callback,learning_rate_reduction,early_stopping])"
      ]
    },
    {
      "cell_type": "code",
      "execution_count": null,
      "metadata": {
        "colab": {
          "background_save": true
        },
        "id": "hZifHnnFHz1U",
        "outputId": "f927abd4-0cd3-4331-c240-a98ca17ca7a8"
      },
      "outputs": [
        {
          "data": {
            "image/png": "[encoded data removed]",
            "text/plain": [
              "<Figure size 640x480 with 2 Axes>"
            ]
          },
          "metadata": {},
          "output_type": "display_data"
        }
      ],
      "source": [
        "# Plot the loss and accuracy curves for training and validation \n",
        "fig, ax = plt.subplots(2,1)\n",
        "ax[0].plot(history.history['loss'], color='b', label=\"Training loss\")\n",
        "ax[0].plot(history.history['val_loss'], color='orange', label=\"validation loss\",axes =ax[0])\n",
        "legend = ax[0].legend(loc='best', shadow=True)\n",
        "\n",
        "\n",
        "ax[1].plot(history.history['accuracy'], color='b', label=\"Training accuracy\")\n",
        "ax[1].plot(history.history['val_accuracy'], color='orange',label=\"Validation accuracy\")\n",
        "legend = ax[1].legend(loc='best', shadow=True)"
      ]
    },
    {
      "cell_type": "markdown",
      "metadata": {
        "id": "6U8rcT97EFEI"
      },
      "source": [
        "##Predict ASL"
      ]
    },
    {
      "cell_type": "code",
      "execution_count": null,
      "metadata": {
        "colab": {
          "background_save": true
        },
        "id": "ejCiKO2VGYii"
      },
      "outputs": [],
      "source": [
        "tf.config.run_functions_eagerly(True)"
      ]
    },
    {
      "cell_type": "code",
      "execution_count": null,
      "metadata": {
        "colab": {
          "background_save": true
        },
        "id": "XRfuEgftEGLg",
        "outputId": "bb520392-9007-4318-b3dd-bdfb660df6d6"
      },
      "outputs": [
        {
          "name": "stderr",
          "output_type": "stream",
          "text": [
            "/usr/local/lib/python3.10/dist-packages/tensorflow/python/data/ops/structured_function.py:254: UserWarning: Even though the `tf.config.experimental_run_functions_eagerly` option is set, this option does not apply to tf.data functions. To force eager execution of tf.data functions, please use `tf.data.experimental.enable_debug_mode()`.\n",
            "  warnings.warn(\n"
          ]
        },
        {
          "name": "stdout",
          "output_type": "stream",
          "text": [
            "544/544 [==============================] - 14s 25ms/step - loss: 0.0054 - accuracy: 0.9979\n",
            "Accuracy of the model is -  99.79310631752014 %\n"
          ]
        }
      ],
      "source": [
        "model = tf.keras.models.load_model('best.h5')\n",
        "print(\"Accuracy of the model is - \" , model.evaluate(x_test, y_test)[1]*100 , \"%\")"
      ]
    },
    {
      "cell_type": "code",
      "execution_count": null,
      "metadata": {
        "colab": {
          "background_save": true
        },
        "id": "q1OcIOt6EGLg",
        "outputId": "dfecb4c1-9d5e-4234-b0f8-a8b87b3154d1"
      },
      "outputs": [
        {
          "name": "stdout",
          "output_type": "stream",
          "text": [
            "544/544 [==============================] - 8s 15ms/step\n"
          ]
        }
      ],
      "source": [
        "# Predict on test set\n",
        "preds = model.predict(x_test)"
      ]
    },
    {
      "cell_type": "code",
      "execution_count": null,
      "metadata": {
        "colab": {
          "background_save": true
        },
        "id": "iPkZDXM8EGLg"
      },
      "outputs": [],
      "source": [
        "preds = np.argmax(preds, axis=1) \n",
        "targets = np.argmax(y_test, axis=1) \n",
        "cm = confusion_matrix(targets, preds)"
      ]
    },
    {
      "cell_type": "code",
      "execution_count": null,
      "metadata": {
        "id": "F_v9-QroUf4-"
      },
      "outputs": [],
      "source": [
        "np.save(data_dir + 'cn_cm.npy', cm)\n",
        "np.save(data_dir + 'cnn_targets.npy', targets)\n",
        "np.save(data_dir + 'cnn_preds.npy', preds)"
      ]
    },
    {
      "cell_type": "code",
      "execution_count": null,
      "metadata": {
        "colab": {
          "background_save": true
        },
        "id": "EchnEJCaEGLg",
        "outputId": "87e1a754-c258-4c3d-f704-913c3be9e3d4"
      },
      "outputs": [
        {
          "name": "stdout",
          "output_type": "stream",
          "text": [
            "              precision    recall  f1-score   support\n",
            "\n",
            "           0       1.00      0.98      0.99       595\n",
            "           1       1.00      0.99      1.00       617\n",
            "           2       1.00      1.00      1.00       585\n",
            "           3       1.00      1.00      1.00       600\n",
            "           4       1.00      1.00      1.00       615\n",
            "           5       1.00      1.00      1.00       654\n",
            "           6       1.00      1.00      1.00       609\n",
            "           7       1.00      0.99      1.00       615\n",
            "           8       1.00      1.00      1.00       614\n",
            "           9       1.00      1.00      1.00       621\n",
            "          10       1.00      1.00      1.00       582\n",
            "          11       1.00      1.00      1.00       616\n",
            "          12       1.00      1.00      1.00       584\n",
            "          13       1.00      1.00      1.00       578\n",
            "          14       1.00      1.00      1.00       617\n",
            "          15       1.00      1.00      1.00       569\n",
            "          16       1.00      1.00      1.00       583\n",
            "          17       1.00      1.00      1.00       594\n",
            "          18       1.00      1.00      1.00       591\n",
            "          19       0.96      1.00      0.98       576\n",
            "          20       1.00      1.00      1.00       593\n",
            "          21       1.00      1.00      1.00       597\n",
            "          22       1.00      1.00      1.00       568\n",
            "          23       1.00      1.00      1.00       633\n",
            "          24       1.00      0.98      0.99       611\n",
            "          25       1.00      1.00      1.00       610\n",
            "          26       0.99      1.00      1.00       635\n",
            "          27       1.00      1.00      1.00       605\n",
            "          28       1.00      1.00      1.00       533\n",
            "\n",
            "    accuracy                           1.00     17400\n",
            "   macro avg       1.00      1.00      1.00     17400\n",
            "weighted avg       1.00      1.00      1.00     17400\n",
            "\n"
          ]
        }
      ],
      "source": [
        "print(classification_report(targets, preds))"
      ]
    },
    {
      "cell_type": "code",
      "execution_count": null,
      "metadata": {
        "id": "uO0y4LhUEGLg"
      },
      "outputs": [],
      "source": [
        "plt.figure(figsize=(20,15))\n",
        "\n",
        "# plot the confusion matrix\n",
        "sns.heatmap(cm, annot=True, fmt=\"d\")"
      ]
    }
  ],
  "metadata": {
    "accelerator": "GPU",
    "colab": {
      "provenance": []
    },
    "gpuClass": "standard",
    "kernelspec": {
      "display_name": "Python 3",
      "name": "python3"
    },
    "language_info": {
      "name": "python"
    }
  },
  "nbformat": 4,
  "nbformat_minor": 0
}